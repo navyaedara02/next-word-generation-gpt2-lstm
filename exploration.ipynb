{
 "cells": [
  {
   "cell_type": "code",
   "execution_count": 20,
   "id": "5c47d9ac",
   "metadata": {},
   "outputs": [],
   "source": [
    "#load shakespeare dataset\n",
    "import numpy as np\n",
    "import pandas as pd"
   ]
  },
  {
   "cell_type": "code",
   "execution_count": 21,
   "id": "537b34a8",
   "metadata": {},
   "outputs": [],
   "source": [
    "data = np.load(\"model_2_doyle/doyle_training_sequences.npz\")\n",
    "X_train = data[\"X_train\"]\n",
    "y_train = data[\"y_train\"]\n",
    "\n",
    "#reconstruct training sentences using json\n",
    "id_to_word = pd.read_json(\"model_2_doyle/doyle_id_to_word.json\", typ=\"series\").to_dict()\n",
    "X_words = [\" \".join([id_to_word[id] for id in seq if id != 0]) for seq in X_train]\n",
    "y_words = [id_to_word[id] for id in y_train]\n",
    "\n",
    "df = pd.DataFrame({\"input\": list(X_words), \"target\": list(y_words)})"
   ]
  },
  {
   "cell_type": "code",
   "execution_count": 22,
   "id": "426ed637",
   "metadata": {},
   "outputs": [
    {
     "data": {
      "text/plain": [
       "array([[    2,     0,     0, ...,     0,     0,     0],\n",
       "       [    2,   219,     0, ...,     0,     0,     0],\n",
       "       [    2,   219, 13403, ...,     0,     0,     0],\n",
       "       ...,\n",
       "       [    2, 27985, 11377, ...,     0,     0,     0],\n",
       "       [    2, 27985, 11377, ...,     0,     0,     0],\n",
       "       [    2, 27985, 11377, ...,     0,     0,     0]],\n",
       "      shape=(3672672, 20))"
      ]
     },
     "execution_count": 22,
     "metadata": {},
     "output_type": "execute_result"
    }
   ],
   "source": [
    "X_train"
   ]
  },
  {
   "cell_type": "code",
   "execution_count": 23,
   "id": "3bdaf472",
   "metadata": {},
   "outputs": [
    {
     "data": {
      "application/vnd.microsoft.datawrangler.viewer.v0+json": {
       "columns": [
        {
         "name": "index",
         "rawType": "int64",
         "type": "integer"
        },
        {
         "name": "input",
         "rawType": "object",
         "type": "string"
        },
        {
         "name": "target",
         "rawType": "object",
         "type": "string"
        }
       ],
       "ref": "b1c576a4-69b0-406f-9677-1185a2861701",
       "rows": [
        [
         "0",
         "<SOS>",
         "the"
        ],
        [
         "1",
         "<SOS> the",
         "croxley"
        ],
        [
         "2",
         "<SOS> the croxley",
         "master"
        ],
        [
         "3",
         "<SOS> the croxley master",
         "<EOS>"
        ],
        [
         "4",
         "<SOS>",
         "mr"
        ],
        [
         "5",
         "<SOS> mr",
         "robert"
        ],
        [
         "6",
         "<SOS> mr robert",
         "montgomery"
        ],
        [
         "7",
         "<SOS> mr robert montgomery",
         "be"
        ],
        [
         "8",
         "<SOS> mr robert montgomery be",
         "seat"
        ],
        [
         "9",
         "<SOS> mr robert montgomery be seat",
         "at"
        ],
        [
         "10",
         "<SOS> mr robert montgomery be seat at",
         "his"
        ],
        [
         "11",
         "<SOS> mr robert montgomery be seat at his",
         "desk"
        ],
        [
         "12",
         "<SOS> mr robert montgomery be seat at his desk",
         "his"
        ],
        [
         "13",
         "<SOS> mr robert montgomery be seat at his desk his",
         "head"
        ],
        [
         "14",
         "<SOS> mr robert montgomery be seat at his desk his head",
         "upon"
        ],
        [
         "15",
         "<SOS> mr robert montgomery be seat at his desk his head upon",
         "his"
        ],
        [
         "16",
         "<SOS> mr robert montgomery be seat at his desk his head upon his",
         "hand"
        ],
        [
         "17",
         "<SOS> mr robert montgomery be seat at his desk his head upon his hand",
         "in"
        ],
        [
         "18",
         "<SOS> mr robert montgomery be seat at his desk his head upon his hand in",
         "a"
        ],
        [
         "19",
         "<SOS> mr robert montgomery be seat at his desk his head upon his hand in a",
         "state"
        ],
        [
         "20",
         "<SOS> mr robert montgomery be seat at his desk his head upon his hand in a state",
         "of"
        ],
        [
         "21",
         "<SOS> mr robert montgomery be seat at his desk his head upon his hand in a state of",
         "the"
        ],
        [
         "22",
         "<SOS> mr robert montgomery be seat at his desk his head upon his hand in a state of the",
         "black"
        ],
        [
         "23",
         "<SOS> mr robert montgomery be seat at his desk his head upon his hand in a state of the black",
         "despondency"
        ],
        [
         "24",
         "<SOS> mr robert montgomery be seat at his desk his head upon his hand in a state of the black",
         "<EOS>"
        ],
        [
         "25",
         "<SOS>",
         "before"
        ],
        [
         "26",
         "<SOS> before",
         "he"
        ],
        [
         "27",
         "<SOS> before he",
         "be"
        ],
        [
         "28",
         "<SOS> before he be",
         "the"
        ],
        [
         "29",
         "<SOS> before he be the",
         "open"
        ],
        [
         "30",
         "<SOS> before he be the open",
         "ledger"
        ],
        [
         "31",
         "<SOS> before he be the open ledger",
         "with"
        ],
        [
         "32",
         "<SOS> before he be the open ledger with",
         "the"
        ],
        [
         "33",
         "<SOS> before he be the open ledger with the",
         "long"
        ],
        [
         "34",
         "<SOS> before he be the open ledger with the long",
         "column"
        ],
        [
         "35",
         "<SOS> before he be the open ledger with the long column",
         "of"
        ],
        [
         "36",
         "<SOS> before he be the open ledger with the long column of <UNK>",
         "oldacre"
        ],
        [
         "37",
         "<SOS> before he be the open ledger with the long column of <UNK> oldacre",
         "prescription"
        ],
        [
         "38",
         "<SOS> before he be the open ledger with the long column of <UNK> oldacre prescription",
         "<EOS>"
        ],
        [
         "39",
         "<SOS>",
         "at"
        ],
        [
         "40",
         "<SOS> at",
         "his"
        ],
        [
         "41",
         "<SOS> at his",
         "elbow"
        ],
        [
         "42",
         "<SOS> at his elbow",
         "lie"
        ],
        [
         "43",
         "<SOS> at his elbow lie",
         "the"
        ],
        [
         "44",
         "<SOS> at his elbow lie the",
         "wooden"
        ],
        [
         "45",
         "<SOS> at his elbow lie the wooden",
         "tray"
        ],
        [
         "46",
         "<SOS> at his elbow lie the wooden tray",
         "with"
        ],
        [
         "47",
         "<SOS> at his elbow lie the wooden tray with",
         "the"
        ],
        [
         "48",
         "<SOS> at his elbow lie the wooden tray with the",
         "label"
        ],
        [
         "49",
         "<SOS> at his elbow lie the wooden tray with the label",
         "in"
        ]
       ],
       "shape": {
        "columns": 2,
        "rows": 3672672
       }
      },
      "text/html": [
       "<div>\n",
       "<style scoped>\n",
       "    .dataframe tbody tr th:only-of-type {\n",
       "        vertical-align: middle;\n",
       "    }\n",
       "\n",
       "    .dataframe tbody tr th {\n",
       "        vertical-align: top;\n",
       "    }\n",
       "\n",
       "    .dataframe thead th {\n",
       "        text-align: right;\n",
       "    }\n",
       "</style>\n",
       "<table border=\"1\" class=\"dataframe\">\n",
       "  <thead>\n",
       "    <tr style=\"text-align: right;\">\n",
       "      <th></th>\n",
       "      <th>input</th>\n",
       "      <th>target</th>\n",
       "    </tr>\n",
       "  </thead>\n",
       "  <tbody>\n",
       "    <tr>\n",
       "      <th>0</th>\n",
       "      <td>&lt;SOS&gt;</td>\n",
       "      <td>the</td>\n",
       "    </tr>\n",
       "    <tr>\n",
       "      <th>1</th>\n",
       "      <td>&lt;SOS&gt; the</td>\n",
       "      <td>croxley</td>\n",
       "    </tr>\n",
       "    <tr>\n",
       "      <th>2</th>\n",
       "      <td>&lt;SOS&gt; the croxley</td>\n",
       "      <td>master</td>\n",
       "    </tr>\n",
       "    <tr>\n",
       "      <th>3</th>\n",
       "      <td>&lt;SOS&gt; the croxley master</td>\n",
       "      <td>&lt;EOS&gt;</td>\n",
       "    </tr>\n",
       "    <tr>\n",
       "      <th>4</th>\n",
       "      <td>&lt;SOS&gt;</td>\n",
       "      <td>mr</td>\n",
       "    </tr>\n",
       "    <tr>\n",
       "      <th>...</th>\n",
       "      <td>...</td>\n",
       "      <td>...</td>\n",
       "    </tr>\n",
       "    <tr>\n",
       "      <th>3672667</th>\n",
       "      <td>&lt;SOS&gt; and ever be your majesty most dutiful</td>\n",
       "      <td>and</td>\n",
       "    </tr>\n",
       "    <tr>\n",
       "      <th>3672668</th>\n",
       "      <td>&lt;SOS&gt; and ever be your majesty most dutiful and</td>\n",
       "      <td>obedient</td>\n",
       "    </tr>\n",
       "    <tr>\n",
       "      <th>3672669</th>\n",
       "      <td>&lt;SOS&gt; and ever be your majesty most dutiful an...</td>\n",
       "      <td>servant</td>\n",
       "    </tr>\n",
       "    <tr>\n",
       "      <th>3672670</th>\n",
       "      <td>&lt;SOS&gt; and ever be your majesty most dutiful an...</td>\n",
       "      <td>monmouth</td>\n",
       "    </tr>\n",
       "    <tr>\n",
       "      <th>3672671</th>\n",
       "      <td>&lt;SOS&gt; and ever be your majesty most dutiful an...</td>\n",
       "      <td>&lt;EOS&gt;</td>\n",
       "    </tr>\n",
       "  </tbody>\n",
       "</table>\n",
       "<p>3672672 rows × 2 columns</p>\n",
       "</div>"
      ],
      "text/plain": [
       "                                                     input    target\n",
       "0                                                    <SOS>       the\n",
       "1                                                <SOS> the   croxley\n",
       "2                                        <SOS> the croxley    master\n",
       "3                                 <SOS> the croxley master     <EOS>\n",
       "4                                                    <SOS>        mr\n",
       "...                                                    ...       ...\n",
       "3672667        <SOS> and ever be your majesty most dutiful       and\n",
       "3672668    <SOS> and ever be your majesty most dutiful and  obedient\n",
       "3672669  <SOS> and ever be your majesty most dutiful an...   servant\n",
       "3672670  <SOS> and ever be your majesty most dutiful an...  monmouth\n",
       "3672671  <SOS> and ever be your majesty most dutiful an...     <EOS>\n",
       "\n",
       "[3672672 rows x 2 columns]"
      ]
     },
     "execution_count": 23,
     "metadata": {},
     "output_type": "execute_result"
    }
   ],
   "source": [
    "df"
   ]
  },
  {
   "cell_type": "code",
   "execution_count": 24,
   "id": "3614f910",
   "metadata": {},
   "outputs": [
    {
     "name": "stdout",
     "output_type": "stream",
     "text": [
      "189298 of 3672672 rows (5.15%) have <EOS> as target\n"
     ]
    },
    {
     "data": {
      "application/vnd.microsoft.datawrangler.viewer.v0+json": {
       "columns": [
        {
         "name": "index",
         "rawType": "int64",
         "type": "integer"
        },
        {
         "name": "input",
         "rawType": "object",
         "type": "string"
        },
        {
         "name": "target",
         "rawType": "object",
         "type": "string"
        }
       ],
       "ref": "4203bab9-98e3-408c-9b68-5aa7e82d59c0",
       "rows": [
        [
         "3",
         "<SOS> the croxley master",
         "<EOS>"
        ],
        [
         "24",
         "<SOS> mr robert montgomery be seat at his desk his head upon his hand in a state of the black",
         "<EOS>"
        ],
        [
         "38",
         "<SOS> before he be the open ledger with the long column of <UNK> oldacre prescription",
         "<EOS>"
        ],
        [
         "73",
         "<SOS> at his elbow lie the wooden tray with the label in various partition the cork box the lump of",
         "<EOS>"
        ],
        [
         "82",
         "<SOS> but his spirit be too low for work",
         "<EOS>"
        ]
       ],
       "shape": {
        "columns": 2,
        "rows": 5
       }
      },
      "text/html": [
       "<div>\n",
       "<style scoped>\n",
       "    .dataframe tbody tr th:only-of-type {\n",
       "        vertical-align: middle;\n",
       "    }\n",
       "\n",
       "    .dataframe tbody tr th {\n",
       "        vertical-align: top;\n",
       "    }\n",
       "\n",
       "    .dataframe thead th {\n",
       "        text-align: right;\n",
       "    }\n",
       "</style>\n",
       "<table border=\"1\" class=\"dataframe\">\n",
       "  <thead>\n",
       "    <tr style=\"text-align: right;\">\n",
       "      <th></th>\n",
       "      <th>input</th>\n",
       "      <th>target</th>\n",
       "    </tr>\n",
       "  </thead>\n",
       "  <tbody>\n",
       "    <tr>\n",
       "      <th>3</th>\n",
       "      <td>&lt;SOS&gt; the croxley master</td>\n",
       "      <td>&lt;EOS&gt;</td>\n",
       "    </tr>\n",
       "    <tr>\n",
       "      <th>24</th>\n",
       "      <td>&lt;SOS&gt; mr robert montgomery be seat at his desk...</td>\n",
       "      <td>&lt;EOS&gt;</td>\n",
       "    </tr>\n",
       "    <tr>\n",
       "      <th>38</th>\n",
       "      <td>&lt;SOS&gt; before he be the open ledger with the lo...</td>\n",
       "      <td>&lt;EOS&gt;</td>\n",
       "    </tr>\n",
       "    <tr>\n",
       "      <th>73</th>\n",
       "      <td>&lt;SOS&gt; at his elbow lie the wooden tray with th...</td>\n",
       "      <td>&lt;EOS&gt;</td>\n",
       "    </tr>\n",
       "    <tr>\n",
       "      <th>82</th>\n",
       "      <td>&lt;SOS&gt; but his spirit be too low for work</td>\n",
       "      <td>&lt;EOS&gt;</td>\n",
       "    </tr>\n",
       "  </tbody>\n",
       "</table>\n",
       "</div>"
      ],
      "text/plain": [
       "                                                input target\n",
       "3                            <SOS> the croxley master  <EOS>\n",
       "24  <SOS> mr robert montgomery be seat at his desk...  <EOS>\n",
       "38  <SOS> before he be the open ledger with the lo...  <EOS>\n",
       "73  <SOS> at his elbow lie the wooden tray with th...  <EOS>\n",
       "82           <SOS> but his spirit be too low for work  <EOS>"
      ]
     },
     "execution_count": 24,
     "metadata": {},
     "output_type": "execute_result"
    }
   ],
   "source": [
    "#see only those rows whose target is <EOS>\n",
    "df_eos = df[df[\"target\"] == \"<EOS>\"]\n",
    "print(f\"{len(df_eos)} of {len(df)} rows ({len(df_eos) / len(df) * 100:.2f}%) have <EOS> as target\")\n",
    "df_eos.head()"
   ]
  },
  {
   "cell_type": "code",
   "execution_count": 25,
   "id": "5d72fd76",
   "metadata": {},
   "outputs": [
    {
     "name": "stdout",
     "output_type": "stream",
     "text": [
      "3672672 of 3672672 rows (100.00%) start with <SOS>\n"
     ]
    },
    {
     "data": {
      "application/vnd.microsoft.datawrangler.viewer.v0+json": {
       "columns": [
        {
         "name": "index",
         "rawType": "int64",
         "type": "integer"
        },
        {
         "name": "input",
         "rawType": "object",
         "type": "string"
        },
        {
         "name": "target",
         "rawType": "object",
         "type": "string"
        }
       ],
       "ref": "668a02ad-d8b3-4b23-85de-1bcba0e02916",
       "rows": [
        [
         "0",
         "<SOS>",
         "the"
        ],
        [
         "1",
         "<SOS> the",
         "croxley"
        ],
        [
         "2",
         "<SOS> the croxley",
         "master"
        ],
        [
         "3",
         "<SOS> the croxley master",
         "<EOS>"
        ],
        [
         "4",
         "<SOS>",
         "mr"
        ]
       ],
       "shape": {
        "columns": 2,
        "rows": 5
       }
      },
      "text/html": [
       "<div>\n",
       "<style scoped>\n",
       "    .dataframe tbody tr th:only-of-type {\n",
       "        vertical-align: middle;\n",
       "    }\n",
       "\n",
       "    .dataframe tbody tr th {\n",
       "        vertical-align: top;\n",
       "    }\n",
       "\n",
       "    .dataframe thead th {\n",
       "        text-align: right;\n",
       "    }\n",
       "</style>\n",
       "<table border=\"1\" class=\"dataframe\">\n",
       "  <thead>\n",
       "    <tr style=\"text-align: right;\">\n",
       "      <th></th>\n",
       "      <th>input</th>\n",
       "      <th>target</th>\n",
       "    </tr>\n",
       "  </thead>\n",
       "  <tbody>\n",
       "    <tr>\n",
       "      <th>0</th>\n",
       "      <td>&lt;SOS&gt;</td>\n",
       "      <td>the</td>\n",
       "    </tr>\n",
       "    <tr>\n",
       "      <th>1</th>\n",
       "      <td>&lt;SOS&gt; the</td>\n",
       "      <td>croxley</td>\n",
       "    </tr>\n",
       "    <tr>\n",
       "      <th>2</th>\n",
       "      <td>&lt;SOS&gt; the croxley</td>\n",
       "      <td>master</td>\n",
       "    </tr>\n",
       "    <tr>\n",
       "      <th>3</th>\n",
       "      <td>&lt;SOS&gt; the croxley master</td>\n",
       "      <td>&lt;EOS&gt;</td>\n",
       "    </tr>\n",
       "    <tr>\n",
       "      <th>4</th>\n",
       "      <td>&lt;SOS&gt;</td>\n",
       "      <td>mr</td>\n",
       "    </tr>\n",
       "  </tbody>\n",
       "</table>\n",
       "</div>"
      ],
      "text/plain": [
       "                      input   target\n",
       "0                     <SOS>      the\n",
       "1                 <SOS> the  croxley\n",
       "2         <SOS> the croxley   master\n",
       "3  <SOS> the croxley master    <EOS>\n",
       "4                     <SOS>       mr"
      ]
     },
     "execution_count": 25,
     "metadata": {},
     "output_type": "execute_result"
    }
   ],
   "source": [
    "#see only those rows that starts with <SOS>\n",
    "df_sos = df[df[\"input\"].str.startswith(\"<SOS>\")]\n",
    "print(f\"{len(df_sos)} of {len(df)} rows ({len(df_sos) / len(df) * 100:.2f}%) start with <SOS>\")\n",
    "df_sos.head()"
   ]
  },
  {
   "cell_type": "code",
   "execution_count": 26,
   "id": "a976b456",
   "metadata": {},
   "outputs": [
    {
     "name": "stdout",
     "output_type": "stream",
     "text": [
      "0 of 3672672 rows (0.00%) have <UNK> as target\n"
     ]
    }
   ],
   "source": [
    "#How many rows have UNK as target?\n",
    "df_unk = df[df[\"target\"] == \"<UNK>\"]\n",
    "print(f\"{len(df_unk)} of {len(df)} rows ({len(df_unk) / len(df) * 100:.2f}%) have <UNK> as target\")"
   ]
  },
  {
   "cell_type": "code",
   "execution_count": 27,
   "id": "c1469116",
   "metadata": {},
   "outputs": [
    {
     "name": "stdout",
     "output_type": "stream",
     "text": [
      "17 of 3672672 rows (0.00%) have only <SOS> and <EOS>\n"
     ]
    },
    {
     "data": {
      "application/vnd.microsoft.datawrangler.viewer.v0+json": {
       "columns": [
        {
         "name": "index",
         "rawType": "int64",
         "type": "integer"
        },
        {
         "name": "input",
         "rawType": "object",
         "type": "string"
        },
        {
         "name": "target",
         "rawType": "object",
         "type": "string"
        }
       ],
       "ref": "aca8d1c9-ed91-441f-bb7f-7044312f0e30",
       "rows": [
        [
         "81967",
         "<SOS>",
         "<EOS>"
        ],
        [
         "1211925",
         "<SOS>",
         "<EOS>"
        ],
        [
         "1234961",
         "<SOS>",
         "<EOS>"
        ],
        [
         "1694148",
         "<SOS>",
         "<EOS>"
        ],
        [
         "1694154",
         "<SOS>",
         "<EOS>"
        ]
       ],
       "shape": {
        "columns": 2,
        "rows": 5
       }
      },
      "text/html": [
       "<div>\n",
       "<style scoped>\n",
       "    .dataframe tbody tr th:only-of-type {\n",
       "        vertical-align: middle;\n",
       "    }\n",
       "\n",
       "    .dataframe tbody tr th {\n",
       "        vertical-align: top;\n",
       "    }\n",
       "\n",
       "    .dataframe thead th {\n",
       "        text-align: right;\n",
       "    }\n",
       "</style>\n",
       "<table border=\"1\" class=\"dataframe\">\n",
       "  <thead>\n",
       "    <tr style=\"text-align: right;\">\n",
       "      <th></th>\n",
       "      <th>input</th>\n",
       "      <th>target</th>\n",
       "    </tr>\n",
       "  </thead>\n",
       "  <tbody>\n",
       "    <tr>\n",
       "      <th>81967</th>\n",
       "      <td>&lt;SOS&gt;</td>\n",
       "      <td>&lt;EOS&gt;</td>\n",
       "    </tr>\n",
       "    <tr>\n",
       "      <th>1211925</th>\n",
       "      <td>&lt;SOS&gt;</td>\n",
       "      <td>&lt;EOS&gt;</td>\n",
       "    </tr>\n",
       "    <tr>\n",
       "      <th>1234961</th>\n",
       "      <td>&lt;SOS&gt;</td>\n",
       "      <td>&lt;EOS&gt;</td>\n",
       "    </tr>\n",
       "    <tr>\n",
       "      <th>1694148</th>\n",
       "      <td>&lt;SOS&gt;</td>\n",
       "      <td>&lt;EOS&gt;</td>\n",
       "    </tr>\n",
       "    <tr>\n",
       "      <th>1694154</th>\n",
       "      <td>&lt;SOS&gt;</td>\n",
       "      <td>&lt;EOS&gt;</td>\n",
       "    </tr>\n",
       "  </tbody>\n",
       "</table>\n",
       "</div>"
      ],
      "text/plain": [
       "         input target\n",
       "81967    <SOS>  <EOS>\n",
       "1211925  <SOS>  <EOS>\n",
       "1234961  <SOS>  <EOS>\n",
       "1694148  <SOS>  <EOS>\n",
       "1694154  <SOS>  <EOS>"
      ]
     },
     "execution_count": 27,
     "metadata": {},
     "output_type": "execute_result"
    }
   ],
   "source": [
    "#see how many rows only have <SOS> and <EOS>, i.e. length of 2\n",
    "df_sos_eos = df[(df[\"input\"] == \"<SOS>\") & (df[\"target\"] == \"<EOS>\")] \n",
    "print(f\"{len(df_sos_eos)} of {len(df)} rows ({len(df_sos_eos) / len(df) * 100:.2f}%) have only <SOS> and <EOS>\")\n",
    "df_sos_eos.head()"
   ]
  },
  {
   "cell_type": "code",
   "execution_count": null,
   "id": "5296fa96",
   "metadata": {},
   "outputs": [],
   "source": []
  },
  {
   "cell_type": "code",
   "execution_count": null,
   "id": "a5e1a38b",
   "metadata": {},
   "outputs": [],
   "source": []
  }
 ],
 "metadata": {
  "kernelspec": {
   "display_name": ".venv-preprocessing (3.11.13)",
   "language": "python",
   "name": "python3"
  },
  "language_info": {
   "codemirror_mode": {
    "name": "ipython",
    "version": 3
   },
   "file_extension": ".py",
   "mimetype": "text/x-python",
   "name": "python",
   "nbconvert_exporter": "python",
   "pygments_lexer": "ipython3",
   "version": "3.11.13"
  }
 },
 "nbformat": 4,
 "nbformat_minor": 5
}
