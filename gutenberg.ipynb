{
 "cells": [
  {
   "cell_type": "code",
   "execution_count": 1,
   "id": "0a8046ea",
   "metadata": {},
   "outputs": [],
   "source": [
    "import gutenbergpy"
   ]
  },
  {
   "cell_type": "code",
   "execution_count": null,
   "id": "1b929d55",
   "metadata": {},
   "outputs": [],
   "source": [
    "# Download and parse the Gutenberg catalog, then filter by publication year\n",
    "from gutenbergpy.gutenbergcache import GutenbergCache\n",
    "from gutenbergpy.textget import get_text_by_id\n",
    "import pandas as pd\n",
    "import os\n",
    "import gzip\n",
    "import shutil\n",
    "import re\n",
    "\n",
    "# Download the catalog if not already present\n",
    "GutenbergCache.create()  # This will download and parse the catalog if needed\n",
    "\n",
    "# Load the catalog as a DataFrame\n",
    "cache = GutenbergCache.get_cache()\n",
    "df = pd.DataFrame(cache.records)\n",
    "\n",
    "# Extract publication year from the metadata (if available)\n",
    "def extract_year(record):\n",
    "    # Try to extract year from the 'subject' or 'title' fields\n",
    "    for field in ['subject', 'title', 'language', 'rights', 'bookshelf', 'author', 'release_date']:\n",
    "        value = record.get(field, None)\n",
    "        if value and isinstance(value, str):\n",
    "            match = re.search(r'(\\d{4})', value)\n",
    "            if match:\n",
    "                return int(match.group(1))\n",
    "    return None\n",
    "\n",
    "df['year'] = df.apply(extract_year, axis=1)\n",
    "\n",
    "# Filter books published between 1850 and 1900 (example)\n",
    "filtered = df[(df['year'] >= 1850) & (df['year'] <= 1900)]\n",
    "filtered_books = filtered[['id', 'title', 'author', 'year']].head(10)  # Show first 10 results\n",
    "filtered_books"
   ]
  }
 ],
 "metadata": {
  "kernelspec": {
   "display_name": ".venv-gutenberg (3.11.13)",
   "language": "python",
   "name": "python3"
  },
  "language_info": {
   "codemirror_mode": {
    "name": "ipython",
    "version": 3
   },
   "file_extension": ".py",
   "mimetype": "text/x-python",
   "name": "python",
   "nbconvert_exporter": "python",
   "pygments_lexer": "ipython3",
   "version": "3.11.13"
  }
 },
 "nbformat": 4,
 "nbformat_minor": 5
}
